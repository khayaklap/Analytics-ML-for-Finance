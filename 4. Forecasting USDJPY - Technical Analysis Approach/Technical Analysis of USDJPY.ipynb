{
 "cells": [
  {
   "cell_type": "markdown",
   "id": "6929f8d8",
   "metadata": {},
   "source": [
    "# Technical Analysis of USDJPY"
   ]
  },
  {
   "cell_type": "markdown",
   "id": "947ab4bb",
   "metadata": {},
   "source": [
    "## Table of Contents\n",
    "<hr style=\"border: 0.25px solid black;\">\n",
    "\n",
    "- [1. Momentum Indicators](#section-1)\n",
    "    * [1.1 Absolute Price Oscillator](#subsection-11)\n",
    "    * [1.2 Awesome Oscillator](#subsection-12)\n",
    "    * [1.3 Balance of Power](#subsection-13)\n",
    "    * [1.4 Bias](#subsection-14)\n",
    "    * [1.5 Chande Momentum Oscillator](#subsection-15)\n",
    "    * [1.6 Commodity Channel Index](#subsection-16)\n",
    "    * [1.7 Directional Movement](#subsection-17)\n",
    "    * [1.8 Efficiency Ratio](#subsection-18)\n",
    "    * [1.9 Fisher Transform](#subsection-19)\n",
    "    * [1.10 Inertia](#subsection-110)\n",
    "    * [1.11 Kaufman's Adaptive Moving Average](#subsection-111)\n",
    "    * [1.12 Know Sure Thing Oscillator](#subsection-112)\n",
    "    * [1.13 Momentum](#subsection-113)\n",
    "    * [1.14 Moving Average Convergence Divergence](#subsection-114)\n",
    "    * [1.15 Percentage Price Oscillator](#subsection-115)\n",
    "    * [1.16 Pretty Good Oscillator](#subsection-116)\n",
    "    * [1.17 Quantitative Qualitative Estimation](#subsection-117)\n",
    "    * [1.18 Rate of Change](#subsection-118)\n",
    "    * [1.19 Relative Strength Index](#subsection-119)\n",
    "    * [1.20 Stochastic Oscillator](#subsection-120)\n",
    "    * [1.21 Stochastic Relative Strength Index](#subsection-121)\n",
    "    * [1.22 Triple Exponential Average](#subsection-122)\n",
    "    * [1.23 True Strength Index](#subsection-123)\n",
    "    * [1.24 Ultimate Oscillator](#subsection-124)\n",
    "    * [1.25 Williams % R](#subsection-125)\n",
    "$$$$\n",
    "- [2. Trend Indicators](#section-2)\n",
    "    * [2.1 Average Directional Movement Index](#subsection-21)\n",
    "    * [2.2 Aroon & Aroon Oscillator](#subsection-22) \n",
    "    * [2.3 Chande Kroll Stop](#subsection-23) \n",
    "    * [2.4 Choppiness Index](#subsection-24) \n",
    "    * [2.5 Detrended Price Oscillator](#subsection-25) \n",
    "    * [2.6 Increasing](#subsection-26) \n",
    "    * [2.7 Parabolic Stop and Reverse](#subsection-27) \n",
    "    * [2.8 Q-Stick](#subsection-28) \n",
    "    * [2.9 TTM Trend](#subsection-29) \n",
    "    * [2.10 Vortex](#subsection-210) \n",
    "$$$$\n",
    "- [3. Volatility Indicators](#section-3)\n",
    "    * [3.1 Accelerator Bands](#subsection-31)\n",
    "    * [3.2 Bollinger Bands](#subsection-32)\n",
    "    * [3.3 Donchian Channel](#subsection-33)\n",
    "    * [3.4 Elder's Thermometer](#subsection-34)\n",
    "    * [3.5 Holt-Winter Channel](#subsection-35)\n",
    "    * [3.6 Keltner Channel](#subsection-36)\n",
    "    * [3.7 Mass Index](#subsection-37)\n",
    "    * [3.8 Normalized Average True Range](#subsection-38)\n",
    "    * [3.9 Price Distance](#subsection-39)\n",
    "    * [3.10 Relative Volatility Index](#subsection-310)\n",
    "$$$$    \n",
    "- [4. Overlap](#section-4)\n",
    "    * [4.1 Double Exponential Moving Average](#subsection-41)\n",
    "    * [4.2 Exponential Moving Average](#subsection-42)\n",
    "    * [4.3 Fibonacci's Weighted Moving Average](#subsection-43)\n",
    "    * [4.4 Gann High-Low Activator](#subsection-44)\n",
    "    * [4.5 High-Low Average](#subsection-45)\n",
    "    * [4.6 High-Low-Close Average](#subsection-46)\n",
    "    * [4.7 Hull Exponential Moving Average](#subsection-47)\n",
    "    * [4.8 Midprice](#subsection-48)\n",
    "    * [4.9 Open-High-Low-Close Average](#subsection-49)\n",
    "    * [4.10 Pascal's Weighted Moving Average](#subsection-410)\n",
    "    * [4.11 WildeR's Moving Average](#subsection-411)\n",
    "    * [4.12 Simple Moving Average](#subsection-412)\n",
    "    * [4.13 Symetric Weighted Moving Average](#subsection-413)\n",
    "    * [4.14 (Ehler's) Super Smoother Filter (SSF)](#subsection-414)\n",
    "    * [4.15 Supertrend](#subsection-415)\n",
    "    * [4.16 Triangular Moving Average](#subsection-416)\n",
    "    * [4.17 Triple Exponential Moving Average](#subsection-417)\n",
    "    * [4.18 Variable Index Dynamic Average](#subsection-418)\n",
    "    * [4.19 Weighted Moving Average](#subsection-419)\n",
    "    * [4.20 Zero Lag Moving Average](#subsection-420)"
   ]
  },
  {
   "cell_type": "markdown",
   "id": "51e6b296",
   "metadata": {},
   "source": [
    "## Importing the Necessary Libraries \n",
    "<hr style=\"border: 0.25px solid black;\">"
   ]
  },
  {
   "cell_type": "code",
   "execution_count": 1,
   "id": "01eba70f",
   "metadata": {},
   "outputs": [],
   "source": [
    "import pandas as pd \n",
    "import pandas_datareader.data as web\n",
    "import pandas_ta as ta \n",
    "import numpy as np \n",
    "import yfinance as yf \n",
    "np.random.seed(42)\n",
    "# pd.set_option(\"display.max_rows\", None)  \n",
    "# pd.set_option(\"display.max_columns\", None) \n",
    "pd.set_option(\"display.float_format\", \"{:.4f}\".format) \n",
    "import warnings\n",
    "warnings.filterwarnings(\"ignore\")"
   ]
  },
  {
   "cell_type": "markdown",
   "id": "e9191cf6",
   "metadata": {},
   "source": [
    "## Loading the Data \n",
    "<hr style=\"border: 0.25px solid black;\">"
   ]
  },
  {
   "cell_type": "code",
   "execution_count": 2,
   "id": "c882c125",
   "metadata": {},
   "outputs": [],
   "source": [
    "start_date = \"1995-01-01\"\n",
    "end_date = \"2024-09-01\"  "
   ]
  },
  {
   "cell_type": "code",
   "execution_count": 77,
   "id": "a48957ab",
   "metadata": {},
   "outputs": [
    {
     "name": "stderr",
     "output_type": "stream",
     "text": [
      "[*********************100%%**********************]  1 of 1 completed\n"
     ]
    }
   ],
   "source": [
    "usd_jpy = yf.download(\"JPY=X\", start = start_date, end = end_date)\n",
    "usd_jpy.drop(columns = [\"Close\", \"Volume\"], inplace = True)"
   ]
  },
  {
   "cell_type": "markdown",
   "id": "a320a8cd",
   "metadata": {},
   "source": [
    "## 1. Momentum Indicators \n",
    "<a id=\"section-1\"></a>\n",
    "<hr style=\"border: 0.25px solid black;\">"
   ]
  },
  {
   "cell_type": "code",
   "execution_count": 4,
   "id": "7173e649",
   "metadata": {},
   "outputs": [],
   "source": [
    "mom_indicators = pd.DataFrame(index = usd_jpy.index)"
   ]
  },
  {
   "cell_type": "markdown",
   "id": "3eb4e3f5",
   "metadata": {},
   "source": [
    "### 1,1 Absolute Price Oscillator (APO) \n",
    "<a id=\"subsection-11\"></a>"
   ]
  },
  {
   "cell_type": "code",
   "execution_count": 5,
   "id": "1b5ee450",
   "metadata": {},
   "outputs": [],
   "source": [
    "mom_indicators[\"APO\"] = ta.apo(usd_jpy[\"Adj Close\"])"
   ]
  },
  {
   "cell_type": "markdown",
   "id": "6e13eb4d",
   "metadata": {},
   "source": [
    "### 1.2 Awesome Oscillator (AO) \n",
    "<a id=\"subsection-12\"></a>"
   ]
  },
  {
   "cell_type": "code",
   "execution_count": 6,
   "id": "43a2d5f2",
   "metadata": {},
   "outputs": [],
   "source": [
    "mom_indicators[\"AO\"] = ta.ao(usd_jpy[\"High\"], usd_jpy[\"Low\"])"
   ]
  },
  {
   "cell_type": "markdown",
   "id": "2dda4a67",
   "metadata": {},
   "source": [
    "### 1.3 Balance of Power (BOP)\n",
    "<a id=\"subsection-13\"></a>"
   ]
  },
  {
   "cell_type": "code",
   "execution_count": 7,
   "id": "0983f34f",
   "metadata": {},
   "outputs": [],
   "source": [
    "for length in [5, 10, 21, 63, 126] :\n",
    "    mom_indicators[\"BOP\"] = ta.bop(usd_jpy[\"Open\"], usd_jpy[\"High\"], usd_jpy[\"Low\"], usd_jpy[\"Adj Close\"], length = length) "
   ]
  },
  {
   "cell_type": "markdown",
   "id": "678e9383",
   "metadata": {},
   "source": [
    "### 1.4 Bias\n",
    "<a id=\"subsection-14\"></a>"
   ]
  },
  {
   "cell_type": "code",
   "execution_count": 8,
   "id": "1f5ffd07",
   "metadata": {},
   "outputs": [],
   "source": [
    "for length in [5, 10, 21, 63, 126] :\n",
    "    mom_indicators[f\"Bias_{length}\"] = ta.bias(usd_jpy[\"Adj Close\"], length = length) "
   ]
  },
  {
   "cell_type": "markdown",
   "id": "06c2c281",
   "metadata": {},
   "source": [
    "### 1.5 Chande Momentum Oscillator (CMO) \n",
    "<a id=\"subsection-15\"></a>"
   ]
  },
  {
   "cell_type": "code",
   "execution_count": 9,
   "id": "2094c80b",
   "metadata": {},
   "outputs": [],
   "source": [
    "mom_indicators[\"CMO\"] = ta.cmo(usd_jpy[\"Adj Close\"])"
   ]
  },
  {
   "cell_type": "markdown",
   "id": "e48a675c",
   "metadata": {},
   "source": [
    "### 1.6 Commodity Channel Index (CCI)\n",
    "<a id=\"subsection-16\"></a>"
   ]
  },
  {
   "cell_type": "code",
   "execution_count": 10,
   "id": "7c5b4949",
   "metadata": {},
   "outputs": [],
   "source": [
    "for length in [5, 10, 21, 63, 126] :\n",
    "    mom_indicators[f\"CCI_{length}\"] = ta.cci(usd_jpy[\"High\"], usd_jpy[\"Low\"], usd_jpy[\"Adj Close\"], length = length)"
   ]
  },
  {
   "cell_type": "markdown",
   "id": "68e0424e",
   "metadata": {},
   "source": [
    "### 1.7 Directional Movement (DM)\n",
    "<a id=\"subsection-17\"></a>"
   ]
  },
  {
   "cell_type": "code",
   "execution_count": 11,
   "id": "4b01951d",
   "metadata": {},
   "outputs": [],
   "source": [
    "mom_indicators[\"+DM\"] = ta.dm(usd_jpy[\"High\"], usd_jpy[\"Low\"])[\"DMP_14\"]\n",
    "\n",
    "mom_indicators[\"-DM\"] = ta.dm(usd_jpy[\"High\"], usd_jpy[\"Low\"])[\"DMN_14\"]"
   ]
  },
  {
   "cell_type": "markdown",
   "id": "06775152",
   "metadata": {},
   "source": [
    "### 1.8 Efficiency Ratio (ER) \n",
    "<a id=\"subsection-18\"></a>"
   ]
  },
  {
   "cell_type": "code",
   "execution_count": 12,
   "id": "f27dba80",
   "metadata": {},
   "outputs": [],
   "source": [
    "for length in [5, 10, 21, 63, 126] :\n",
    "    mom_indicators[f\"ER__{length}\"] = ta.er(usd_jpy[\"Adj Close\"], length = length) "
   ]
  },
  {
   "cell_type": "markdown",
   "id": "e3cdbc97",
   "metadata": {},
   "source": [
    "### 1.9 Fisher Transform (FT)\n",
    "<a id=\"subsection-19\"></a>"
   ]
  },
  {
   "cell_type": "code",
   "execution_count": 13,
   "id": "b2f3f8d7",
   "metadata": {},
   "outputs": [],
   "source": [
    "mom_indicators[\"FT\"] = ta.fisher(usd_jpy[\"High\"], usd_jpy[\"Low\"])[\"FISHERT_9_1\"]"
   ]
  },
  {
   "cell_type": "markdown",
   "id": "c040d96b",
   "metadata": {},
   "source": [
    "### 1.10 Inertia\n",
    "<a id=\"subsection-110\"></a>"
   ]
  },
  {
   "cell_type": "code",
   "execution_count": 14,
   "id": "021b65e5",
   "metadata": {},
   "outputs": [],
   "source": [
    "mom_indicators[\"Inertia\"] = ta.inertia(usd_jpy[\"Adj Close\"])"
   ]
  },
  {
   "cell_type": "markdown",
   "id": "a6004641",
   "metadata": {},
   "source": [
    "### 1.11 Kaufman's Adaptive Moving Average (KAMA) \n",
    "<a id=\"subsection-111\"></a>"
   ]
  },
  {
   "cell_type": "code",
   "execution_count": 15,
   "id": "c4b8233f",
   "metadata": {},
   "outputs": [],
   "source": [
    "mom_indicators[\"KAMA\"] = ta.kama(usd_jpy[\"Adj Close\"])"
   ]
  },
  {
   "cell_type": "markdown",
   "id": "25e7a864",
   "metadata": {},
   "source": [
    "### 1.12 Know Sure Thing Oscillator (KSTO)\n",
    "<a id=\"subsection-112\"></a>"
   ]
  },
  {
   "cell_type": "code",
   "execution_count": 16,
   "id": "ff05ebc0",
   "metadata": {},
   "outputs": [],
   "source": [
    "mom_indicators[\"KSTO\"] = ta.kst(usd_jpy[\"Adj Close\"])[\"KST_10_15_20_30_10_10_10_15\"]"
   ]
  },
  {
   "cell_type": "markdown",
   "id": "1ba0fe56",
   "metadata": {},
   "source": [
    "### 1.13 Momentum (MOM) \n",
    "<a id=\"subsection-113\"></a>"
   ]
  },
  {
   "cell_type": "code",
   "execution_count": 17,
   "id": "190726d1",
   "metadata": {},
   "outputs": [],
   "source": [
    "for length in [5, 10, 21, 63, 126] :\n",
    "    mom_indicators[f\"MOM_{length}\"] = ta.mom(usd_jpy[\"Adj Close\"], length = length) "
   ]
  },
  {
   "cell_type": "markdown",
   "id": "101e990c",
   "metadata": {},
   "source": [
    "### 1.14 Moving Average Convergence Divergence (MACD)\n",
    "<a id=\"subsection-114\"></a>"
   ]
  },
  {
   "cell_type": "code",
   "execution_count": 18,
   "id": "e2b4747b",
   "metadata": {},
   "outputs": [],
   "source": [
    "mom_indicators[\"MACD\"] = ta.macd(usd_jpy[\"Adj Close\"])[\"MACD_12_26_9\"]"
   ]
  },
  {
   "cell_type": "markdown",
   "id": "7814af8a",
   "metadata": {},
   "source": [
    "### 1.15 Percentage Price Oscillator (PPO)\n",
    "<a id=\"subsection-115\"></a>"
   ]
  },
  {
   "cell_type": "code",
   "execution_count": 19,
   "id": "b2bfebb0",
   "metadata": {},
   "outputs": [],
   "source": [
    "mom_indicators[\"PPO\"] = ta.ppo(usd_jpy[\"Adj Close\"])[\"PPO_12_26_9\"]"
   ]
  },
  {
   "cell_type": "markdown",
   "id": "f6771984",
   "metadata": {},
   "source": [
    "### 1.16 Pretty Good Oscillator (PGO)\n",
    "<a id=\"subsection-116\"></a>"
   ]
  },
  {
   "cell_type": "code",
   "execution_count": 20,
   "id": "4c3cda89",
   "metadata": {},
   "outputs": [],
   "source": [
    "for length in [5, 10, 21, 63, 126] :\n",
    "    mom_indicators[f\"PGO_{length}\"] = ta.pgo(usd_jpy[\"High\"], usd_jpy[\"Low\"], usd_jpy[\"Adj Close\"], length = length) "
   ]
  },
  {
   "cell_type": "markdown",
   "id": "72d0e834",
   "metadata": {},
   "source": [
    "### 1.17 Quantitative Qualitative Estimation (QQE)\n",
    "<a id=\"subsection-117\"></a>"
   ]
  },
  {
   "cell_type": "code",
   "execution_count": 21,
   "id": "e838b972",
   "metadata": {},
   "outputs": [],
   "source": [
    "mom_indicators[\"QQE\"] = ta.qqe(usd_jpy[\"Adj Close\"])[\"QQE_14_5_4.236\"]"
   ]
  },
  {
   "cell_type": "markdown",
   "id": "de3b3289",
   "metadata": {},
   "source": [
    "### 1.18 Rate of Change (ROC)\n",
    "<a id=\"subsection-118\"></a>"
   ]
  },
  {
   "cell_type": "code",
   "execution_count": 22,
   "id": "e5b11ddd",
   "metadata": {},
   "outputs": [],
   "source": [
    "for length in [5, 10, 21, 63, 126] :\n",
    "    mom_indicators[f\"ROC_{length}\"] = ta.roc(usd_jpy[\"Adj Close\"], length = length) "
   ]
  },
  {
   "cell_type": "markdown",
   "id": "67300a05",
   "metadata": {},
   "source": [
    "### 1.19 Relative Strength Index (RSI)\n",
    "<a id=\"subsection-119\"></a>"
   ]
  },
  {
   "cell_type": "code",
   "execution_count": 23,
   "id": "dd85b6a6",
   "metadata": {},
   "outputs": [],
   "source": [
    "for length in [5, 10, 21, 63, 126] :\n",
    "    mom_indicators[f\"RSI_{length}\"] = ta.rsi(usd_jpy[\"Adj Close\"], length = length) "
   ]
  },
  {
   "cell_type": "markdown",
   "id": "334758bc",
   "metadata": {},
   "source": [
    "### 1.20 Stochastic Oscillator (SO) \n",
    "<a id=\"subsection-120\"></a>"
   ]
  },
  {
   "cell_type": "code",
   "execution_count": 24,
   "id": "06b817d0",
   "metadata": {},
   "outputs": [],
   "source": [
    "mom_indicators[\"SO_%K\"] = ta.stoch(usd_jpy[\"High\"], usd_jpy[\"Low\"], usd_jpy[\"Adj Close\"])[\"STOCHk_14_3_3\"]\n",
    "\n",
    "mom_indicators[\"SO_%K\"] = ta.stoch(usd_jpy[\"High\"], usd_jpy[\"Low\"], usd_jpy[\"Adj Close\"])[\"STOCHd_14_3_3\"]"
   ]
  },
  {
   "cell_type": "markdown",
   "id": "a5ea6b4c",
   "metadata": {},
   "source": [
    "### 1.21 Stochastic Relative Strength Index (StochRSI)\n",
    "<a id=\"subsection-121\"></a>"
   ]
  },
  {
   "cell_type": "code",
   "execution_count": 25,
   "id": "bc80f800",
   "metadata": {},
   "outputs": [],
   "source": [
    "mom_indicators[\"StochRSI_K\"] = ta.stochrsi(usd_jpy[\"Adj Close\"])[\"STOCHRSIk_14_14_3_3\"]\n",
    "\n",
    "mom_indicators[\"StochRSI_D\"] = ta.stochrsi(usd_jpy[\"Adj Close\"])[\"STOCHRSId_14_14_3_3\"]"
   ]
  },
  {
   "cell_type": "markdown",
   "id": "63868490",
   "metadata": {},
   "source": [
    "### 1.22 Triple Exponential Average (TRIX)\n",
    "<a id=\"subsection-122\"></a>"
   ]
  },
  {
   "cell_type": "code",
   "execution_count": 26,
   "id": "128a3018",
   "metadata": {},
   "outputs": [],
   "source": [
    "mom_indicators[\"TRIX\"] = ta.trix(usd_jpy[\"Adj Close\"])[\"TRIX_30_9\"]"
   ]
  },
  {
   "cell_type": "markdown",
   "id": "d0a8ff38",
   "metadata": {},
   "source": [
    "### 1.23 True Strength Index (TSI)\n",
    "<a id=\"subsection-123\"></a>"
   ]
  },
  {
   "cell_type": "code",
   "execution_count": 27,
   "id": "e6f8f731",
   "metadata": {},
   "outputs": [],
   "source": [
    "mom_indicators[\"TSI\"] = ta.tsi(usd_jpy[\"Adj Close\"])[\"TSI_13_25_13\"]"
   ]
  },
  {
   "cell_type": "markdown",
   "id": "ad8cdc97",
   "metadata": {},
   "source": [
    "### 1.24 Ultimate Oscillator (UO)\n",
    "<a id=\"subsection-124\"></a>"
   ]
  },
  {
   "cell_type": "code",
   "execution_count": 28,
   "id": "ca5ad666",
   "metadata": {},
   "outputs": [],
   "source": [
    "mom_indicators[\"UO\"] = ta.uo(usd_jpy[\"High\"], usd_jpy[\"Low\"], usd_jpy[\"Adj Close\"])"
   ]
  },
  {
   "cell_type": "markdown",
   "id": "cb385f0b",
   "metadata": {},
   "source": [
    "### 1.25 Williams %R\n",
    "<a id=\"subsection-125\"></a>"
   ]
  },
  {
   "cell_type": "code",
   "execution_count": 29,
   "id": "b2eeeec0",
   "metadata": {},
   "outputs": [],
   "source": [
    "for length in [5, 10, 21, 63, 126] :\n",
    "    mom_indicators[f\"Williams_%R_{length}\"] = ta.willr(usd_jpy[\"High\"], usd_jpy[\"Low\"], usd_jpy[\"Adj Close\"], length = length) "
   ]
  },
  {
   "cell_type": "code",
   "execution_count": 30,
   "id": "9c7e2965",
   "metadata": {},
   "outputs": [],
   "source": [
    "mom_indicators = mom_indicators.loc[\"2000-01-01\":]\n",
    "#mom_indicators.to_csv(\"C:/Users/khail/OneDrive/Desktop/Github Projects/Momentum_Indicators.csv\", index = True) "
   ]
  },
  {
   "cell_type": "markdown",
   "id": "1cd93597",
   "metadata": {},
   "source": [
    "## 2. Trend Indicators \n",
    "<a id=\"section-2\"></a>\n",
    "<hr style=\"border: 0.25px solid black;\">"
   ]
  },
  {
   "cell_type": "code",
   "execution_count": 31,
   "id": "ccabd8e3",
   "metadata": {},
   "outputs": [],
   "source": [
    "trend_indicators = pd.DataFrame(index = usd_jpy.index)"
   ]
  },
  {
   "cell_type": "markdown",
   "id": "a69ff2af",
   "metadata": {},
   "source": [
    "### 2.1 Average Directional Movement Index (ADX)\n",
    "<a id=\"subsection-21\"></a>"
   ]
  },
  {
   "cell_type": "code",
   "execution_count": 32,
   "id": "d38c6547",
   "metadata": {},
   "outputs": [],
   "source": [
    "for length in [5, 10, 21, 63, 126] :\n",
    "    trend_indicators[f\"ADX_{length}\"] = ta.adx(usd_jpy[\"High\"], usd_jpy[\"Low\"], usd_jpy[\"Adj Close\"], length = length)[f\"ADX_{length}\"] "
   ]
  },
  {
   "cell_type": "markdown",
   "id": "652f1707",
   "metadata": {},
   "source": [
    "### 2.2 Aroon & Aroon Oscillator (AROON)\n",
    "<a id=\"subsection-22\"></a>"
   ]
  },
  {
   "cell_type": "code",
   "execution_count": 33,
   "id": "8fec2102",
   "metadata": {},
   "outputs": [],
   "source": [
    "for length in [5, 10, 21, 63, 126] :\n",
    "    trend_indicators[f\"AROON_{length}\"] = ta.aroon(usd_jpy[\"High\"], usd_jpy[\"Low\"], length = length)[f\"AROONOSC_{length}\"] "
   ]
  },
  {
   "cell_type": "markdown",
   "id": "7e1b19e2",
   "metadata": {},
   "source": [
    "### 2.3 Chande Kroll Stop (CKSP)\n",
    "<a id=\"subsection-23\"></a>"
   ]
  },
  {
   "cell_type": "code",
   "execution_count": 34,
   "id": "3deee12a",
   "metadata": {},
   "outputs": [],
   "source": [
    "trend_indicators[\"CKSP_L\"] = ta.cksp(usd_jpy[\"High\"], usd_jpy[\"Low\"], usd_jpy[\"Adj Close\"])[\"CKSPl_10_3_20\"]\n",
    "\n",
    "trend_indicators[\"CKSP_S\"] = ta.cksp(usd_jpy[\"High\"], usd_jpy[\"Low\"], usd_jpy[\"Adj Close\"])[\"CKSPs_10_3_20\"]"
   ]
  },
  {
   "cell_type": "markdown",
   "id": "8e4fe265",
   "metadata": {},
   "source": [
    "### 2.4 Choppiness Index (CHOP)\n",
    "<a id=\"subsection-24\"></a>"
   ]
  },
  {
   "cell_type": "code",
   "execution_count": 35,
   "id": "4b97100a",
   "metadata": {},
   "outputs": [],
   "source": [
    "for length in [5, 10, 21, 63, 126] :\n",
    "    trend_indicators[f\"CHOP_{length}\"] = ta.chop(usd_jpy[\"High\"], usd_jpy[\"Low\"], usd_jpy[\"Adj Close\"], length = length) "
   ]
  },
  {
   "cell_type": "markdown",
   "id": "042051ad",
   "metadata": {},
   "source": [
    "### 2.5 Detrended Price Oscillator (DPO)\n",
    "<a id=\"subsection-25\"></a>"
   ]
  },
  {
   "cell_type": "code",
   "execution_count": 36,
   "id": "b671fc0e",
   "metadata": {},
   "outputs": [],
   "source": [
    "for length in [5, 10, 21, 63, 126] : \n",
    "    trend_indicators[f\"DPO_{length}\"] = ta.dpo(usd_jpy[\"Adj Close\"], length = length, lookahead = False) "
   ]
  },
  {
   "cell_type": "markdown",
   "id": "ed592b79",
   "metadata": {},
   "source": [
    "### 2.6 Increasing \n",
    "<a id=\"subsection-26\"></a>"
   ]
  },
  {
   "cell_type": "code",
   "execution_count": 37,
   "id": "5fa98f6e",
   "metadata": {},
   "outputs": [],
   "source": [
    "for length in [5, 10, 21, 63, 126] :\n",
    "    trend_indicators[f\"Increasing_{length}\"] = ta.increasing(usd_jpy[\"Adj Close\"], length = length) "
   ]
  },
  {
   "cell_type": "markdown",
   "id": "9beff021",
   "metadata": {},
   "source": [
    "### 2.7 Parabolic Stop and Reverse (PSAR)\n",
    "<a id=\"subsection-27\"></a>"
   ]
  },
  {
   "cell_type": "code",
   "execution_count": 38,
   "id": "ae5321ea",
   "metadata": {},
   "outputs": [],
   "source": [
    "trend_indicators[\"PSAR\"] = ta.psar(usd_jpy[\"High\"], usd_jpy[\"Low\"], usd_jpy[\"Adj Close\"])[\"PSARr_0.02_0.2\"]"
   ]
  },
  {
   "cell_type": "markdown",
   "id": "fde2d4ce",
   "metadata": {},
   "source": [
    "### 2.8 Q-Stick \n",
    "<a id=\"subsection-28\"></a>"
   ]
  },
  {
   "cell_type": "code",
   "execution_count": 39,
   "id": "1e88e329",
   "metadata": {},
   "outputs": [],
   "source": [
    "for length in [5, 10, 21, 63, 126] :\n",
    "    trend_indicators[f\"QSTICK_{length}\"] = ta.qstick(usd_jpy[\"Open\"], usd_jpy[\"Adj Close\"], length = length) "
   ]
  },
  {
   "cell_type": "markdown",
   "id": "3d86f34d",
   "metadata": {},
   "source": [
    "### 2.9 TTM Trend \n",
    "<a id=\"subsection-29\"></a>"
   ]
  },
  {
   "cell_type": "code",
   "execution_count": 40,
   "id": "5d5a7df4",
   "metadata": {},
   "outputs": [],
   "source": [
    "for length in [5, 10, 21, 63, 126] :\n",
    "    trend_indicators[f\"TTM_TREND_{length}\"] = ta.ttm_trend(usd_jpy[\"High\"], usd_jpy[\"Low\"], usd_jpy[\"Adj Close\"], length = length)[f\"TTM_TRND_{length}\"]"
   ]
  },
  {
   "cell_type": "markdown",
   "id": "f0eac96f",
   "metadata": {},
   "source": [
    "### 2.10 Vortex\n",
    "<a id=\"subsection-210\"></a>"
   ]
  },
  {
   "cell_type": "code",
   "execution_count": 41,
   "id": "7c2af00c",
   "metadata": {},
   "outputs": [],
   "source": [
    "for length in [5, 10, 21, 63, 126] :\n",
    "    vortex = ta.vortex(usd_jpy[\"High\"], usd_jpy[\"Low\"], usd_jpy[\"Adj Close\"], length = length)\n",
    "    trend_indicators = pd.concat(objs = [trend_indicators, vortex], axis = 1)"
   ]
  },
  {
   "cell_type": "code",
   "execution_count": 42,
   "id": "c760b256",
   "metadata": {},
   "outputs": [],
   "source": [
    "trend_indicators = trend_indicators.loc[\"2000-01-01\":]\n",
    "#trend_indicators.to_csv(\"C:/Users/khail/OneDrive/Desktop/Github Projects/Trend_Indicators.csv\", index = True)  "
   ]
  },
  {
   "cell_type": "markdown",
   "id": "64c569b0",
   "metadata": {},
   "source": [
    "## 3. Volatility Indicators \n",
    "<a id=\"section-3\"></a>\n",
    "<hr style=\"border: 0.25px solid black;\">"
   ]
  },
  {
   "cell_type": "code",
   "execution_count": 43,
   "id": "d258ca6a",
   "metadata": {},
   "outputs": [],
   "source": [
    "vol_indicators = pd.DataFrame(index = usd_jpy.index)"
   ]
  },
  {
   "cell_type": "markdown",
   "id": "c194c085",
   "metadata": {},
   "source": [
    "### 3.1 Accelerator Bands (ACCB)\n",
    "<a id=\"subsection-31\"></a>"
   ]
  },
  {
   "cell_type": "code",
   "execution_count": 44,
   "id": "a0d65f5d",
   "metadata": {},
   "outputs": [],
   "source": [
    "for length in [5, 10, 21, 63, 126] :\n",
    "    accel_bands = ta.accbands(usd_jpy[\"High\"], usd_jpy[\"Low\"], usd_jpy[\"Adj Close\"], length = length)\n",
    "    vol_indicators = pd.concat(objs = [vol_indicators, accel_bands], axis = 1)"
   ]
  },
  {
   "cell_type": "markdown",
   "id": "680ddd81",
   "metadata": {},
   "source": [
    "### 3.2 Bollinger Bands (ACCB)\n",
    "<a id=\"subsection-32\"></a>"
   ]
  },
  {
   "cell_type": "code",
   "execution_count": 45,
   "id": "06eb39d4",
   "metadata": {},
   "outputs": [],
   "source": [
    "for length in [5, 10, 21, 63, 126] :\n",
    "    boll_bands = ta.bbands(usd_jpy[\"Adj Close\"], length = length, std = 2.0)\n",
    "    vol_indicators = pd.concat(objs = [vol_indicators, boll_bands], axis = 1)"
   ]
  },
  {
   "cell_type": "markdown",
   "id": "5684e76c",
   "metadata": {},
   "source": [
    "### 3.3 Donchian Channel (DC)\n",
    "<a id=\"subsection-33\"></a>"
   ]
  },
  {
   "cell_type": "code",
   "execution_count": 46,
   "id": "3ffc5987",
   "metadata": {},
   "outputs": [],
   "source": [
    "vol_indicators[\"DCL\"] = ta.donchian(usd_jpy[\"High\"], usd_jpy[\"Low\"])[\"DCL_20_20\"]\n",
    "\n",
    "vol_indicators[\"DCM\"] = ta.donchian(usd_jpy[\"High\"], usd_jpy[\"Low\"])[\"DCM_20_20\"]\n",
    "\n",
    "vol_indicators[\"DCU\"] = ta.donchian(usd_jpy[\"High\"], usd_jpy[\"Low\"])[\"DCU_20_20\"]"
   ]
  },
  {
   "cell_type": "markdown",
   "id": "0293183e",
   "metadata": {},
   "source": [
    "### 3.4 Elder's Thermometer (THERMO)\n",
    "<a id=\"subsection-34\"></a>"
   ]
  },
  {
   "cell_type": "code",
   "execution_count": 47,
   "id": "5a6b8059",
   "metadata": {},
   "outputs": [],
   "source": [
    "vol_indicators[\"THERMO\"] = ta.thermo(usd_jpy[\"High\"], usd_jpy[\"Low\"])[\"THERMO_20_2_0.5\"]"
   ]
  },
  {
   "cell_type": "markdown",
   "id": "ee7c82a0",
   "metadata": {},
   "source": [
    "### 3.5 Holt-Winter Channel (HWC)\n",
    "<a id=\"subsection-35\"></a>"
   ]
  },
  {
   "cell_type": "code",
   "execution_count": 48,
   "id": "26822e31",
   "metadata": {},
   "outputs": [],
   "source": [
    "hw_channel = ta.hwc(usd_jpy[\"Adj Close\"])\n",
    "vol_indicators = pd.concat(objs = [vol_indicators, hw_channel], axis = 1)"
   ]
  },
  {
   "cell_type": "markdown",
   "id": "4816c230",
   "metadata": {},
   "source": [
    "### 3.6 Keltner Channel (KC)\n",
    "<a id=\"subsection-36\"></a>"
   ]
  },
  {
   "cell_type": "code",
   "execution_count": 49,
   "id": "6acad763",
   "metadata": {},
   "outputs": [],
   "source": [
    "vol_indicators[\"KCL\"] = ta.kc(usd_jpy[\"High\"], usd_jpy[\"Low\"], usd_jpy[\"Adj Close\"])[\"KCLe_20_2\"]\n",
    "\n",
    "vol_indicators[\"KCM\"] = ta.kc(usd_jpy[\"High\"], usd_jpy[\"Low\"], usd_jpy[\"Adj Close\"])[\"KCBe_20_2\"]\n",
    "\n",
    "vol_indicators[\"KCU\"] = ta.kc(usd_jpy[\"High\"], usd_jpy[\"Low\"], usd_jpy[\"Adj Close\"])[\"KCUe_20_2\"]"
   ]
  },
  {
   "cell_type": "markdown",
   "id": "8b108fea",
   "metadata": {},
   "source": [
    "### 3.7 Mass Index (MASSI)\n",
    "<a id=\"subsection-37\"></a>"
   ]
  },
  {
   "cell_type": "code",
   "execution_count": 50,
   "id": "7d1aa411",
   "metadata": {},
   "outputs": [],
   "source": [
    "vol_indicators[\"MASSI\"] = ta.massi(usd_jpy[\"High\"], usd_jpy[\"Low\"])"
   ]
  },
  {
   "cell_type": "markdown",
   "id": "9bed9100",
   "metadata": {},
   "source": [
    "### 3.8 Normalized Average True Range (NATR)\n",
    "<a id=\"subsection-38\"></a>"
   ]
  },
  {
   "cell_type": "code",
   "execution_count": 51,
   "id": "3f8078f6",
   "metadata": {},
   "outputs": [],
   "source": [
    "for length in [5, 10, 21, 63, 126] :\n",
    "    vol_indicators[f\"NATR_{length}\"] = ta.natr(usd_jpy[\"High\"], usd_jpy[\"Low\"], usd_jpy[\"Adj Close\"], length = length) "
   ]
  },
  {
   "cell_type": "markdown",
   "id": "67e2d34d",
   "metadata": {},
   "source": [
    "### 3.9 Price Distance (PDIST)\n",
    "<a id=\"subsection-39\"></a>"
   ]
  },
  {
   "cell_type": "code",
   "execution_count": 52,
   "id": "494638c9",
   "metadata": {},
   "outputs": [],
   "source": [
    "vol_indicators[\"PDIST\"] = ta.pdist(usd_jpy[\"Open\"], usd_jpy[\"High\"], usd_jpy[\"Low\"], usd_jpy[\"Adj Close\"])"
   ]
  },
  {
   "cell_type": "markdown",
   "id": "77861a97",
   "metadata": {},
   "source": [
    "### 3.10 Relative Volatiltiy Index (RVI)\n",
    "<a id=\"subsection-310\"></a>"
   ]
  },
  {
   "cell_type": "code",
   "execution_count": 53,
   "id": "c1fb7a03",
   "metadata": {},
   "outputs": [],
   "source": [
    "for length in [5, 10, 21, 63, 126] :\n",
    "    vol_indicators[f\"RVI_{length}\"] = ta.rvi(usd_jpy[\"High\"], usd_jpy[\"Low\"], usd_jpy[\"Adj Close\"], length = length) "
   ]
  },
  {
   "cell_type": "code",
   "execution_count": 54,
   "id": "9a2e40df",
   "metadata": {},
   "outputs": [],
   "source": [
    "vol_indicators = vol_indicators.loc[\"2000-01-01\":] \n",
    "#vol_indicators.to_csv(\"C:/Users/khail/OneDrive/Desktop/Github Projects/Volatility_Indicators.csv\", index = True)  "
   ]
  },
  {
   "cell_type": "markdown",
   "id": "1eafebc5",
   "metadata": {},
   "source": [
    "## 4. Overlapping Indicators\n",
    "<a id=\"section-4\"></a>\n",
    "<hr style=\"border: 0.25px solid black;\">"
   ]
  },
  {
   "cell_type": "code",
   "execution_count": 55,
   "id": "cb71da17",
   "metadata": {},
   "outputs": [],
   "source": [
    "overlap_indicators = pd.DataFrame(index = usd_jpy.index)"
   ]
  },
  {
   "cell_type": "markdown",
   "id": "6f08c5c6",
   "metadata": {},
   "source": [
    "### 4.1 Double Exponential Moving Average (DEMA)\n",
    "<a id=\"subsection-41\"></a>"
   ]
  },
  {
   "cell_type": "code",
   "execution_count": 56,
   "id": "93c5c1da",
   "metadata": {},
   "outputs": [],
   "source": [
    "for length in [5, 10, 21, 63, 126] :\n",
    "    overlap_indicators[f\"DEMA_{length}\"] = ta.dema(usd_jpy[\"Adj Close\"], length = length) "
   ]
  },
  {
   "cell_type": "markdown",
   "id": "06e763d4",
   "metadata": {},
   "source": [
    "### 4.2 Exponential Moving Average (EMA)\n",
    "<a id=\"subsection-42\"></a>"
   ]
  },
  {
   "cell_type": "code",
   "execution_count": 57,
   "id": "6a00ad66",
   "metadata": {},
   "outputs": [],
   "source": [
    "for length in [5, 10, 21, 63, 126] :\n",
    "    overlap_indicators[f\"EMA_{length}\"] = ta.ema(usd_jpy[\"Adj Close\"], length = length) "
   ]
  },
  {
   "cell_type": "markdown",
   "id": "83ac9a3e",
   "metadata": {},
   "source": [
    "### 4.3 Fibonacci's Weighted Moving Average (FWMA)\n",
    "<a id=\"subsection-43\"></a>"
   ]
  },
  {
   "cell_type": "code",
   "execution_count": 58,
   "id": "b428db53",
   "metadata": {},
   "outputs": [],
   "source": [
    "for length in [5, 10, 21, 63, 126] :\n",
    "    overlap_indicators[f\"FWMA_{length}\"] = ta.fwma(usd_jpy[\"Adj Close\"], length = length)"
   ]
  },
  {
   "cell_type": "markdown",
   "id": "c548eb78",
   "metadata": {},
   "source": [
    "### 4.4 (Gann) High-Low Activator (HILO)\n",
    "<a id=\"subsection-44\"></a>"
   ]
  },
  {
   "cell_type": "code",
   "execution_count": 59,
   "id": "da0309a3",
   "metadata": {},
   "outputs": [],
   "source": [
    "overlap_indicators[\"HILO\"] = ta.hilo(usd_jpy[\"High\"], usd_jpy[\"Low\"], usd_jpy[\"Adj Close\"])[\"HILO_13_21\"]"
   ]
  },
  {
   "cell_type": "markdown",
   "id": "7cec7658",
   "metadata": {},
   "source": [
    "### 4.5 High-Low Average (HLA)\n",
    "<a id=\"subsection-45\"></a>"
   ]
  },
  {
   "cell_type": "code",
   "execution_count": 60,
   "id": "90bb3764",
   "metadata": {},
   "outputs": [],
   "source": [
    "overlap_indicators[\"HLA\"] = ta.hl2(usd_jpy[\"High\"], usd_jpy[\"Low\"])"
   ]
  },
  {
   "cell_type": "markdown",
   "id": "9934bfee",
   "metadata": {},
   "source": [
    "### 4.6 High-Low-Close Average (HLCA)\n",
    "<a id=\"subsection-46\"></a>"
   ]
  },
  {
   "cell_type": "code",
   "execution_count": 61,
   "id": "d0328453",
   "metadata": {},
   "outputs": [],
   "source": [
    "overlap_indicators[\"HLCA\"] = ta.hlc3(usd_jpy[\"High\"], usd_jpy[\"Low\"], usd_jpy[\"Adj Close\"])"
   ]
  },
  {
   "cell_type": "markdown",
   "id": "5a21b85c",
   "metadata": {},
   "source": [
    "### 4.7 Hull Exponential Moving Average (HMA)\n",
    "<a id=\"subsection-47\"></a>"
   ]
  },
  {
   "cell_type": "code",
   "execution_count": 62,
   "id": "7ed69055",
   "metadata": {},
   "outputs": [],
   "source": [
    "for length in [5, 10, 21, 63, 126] :\n",
    "    overlap_indicators[f\"HMA_{length}\"] = ta.hma(usd_jpy[\"Adj Close\"], length = length) "
   ]
  },
  {
   "cell_type": "markdown",
   "id": "2b53c5a1",
   "metadata": {},
   "source": [
    "### 4.8 Midprice \n",
    "<a id=\"subsection-48\"></a>"
   ]
  },
  {
   "cell_type": "code",
   "execution_count": 63,
   "id": "fef336cb",
   "metadata": {},
   "outputs": [],
   "source": [
    "overlap_indicators[\"MIDPRICE\"] = ta.midprice(usd_jpy[\"High\"], usd_jpy[\"Low\"])"
   ]
  },
  {
   "cell_type": "markdown",
   "id": "f921cae7",
   "metadata": {},
   "source": [
    "### 4.9 Open-High-Low-Close Average (OHLCA)\n",
    "<a id=\"subsection-49\"></a>"
   ]
  },
  {
   "cell_type": "code",
   "execution_count": 64,
   "id": "db210d3f",
   "metadata": {},
   "outputs": [],
   "source": [
    "overlap_indicators[\"OHLCA\"] = ta.ohlc4(usd_jpy[\"Open\"], usd_jpy[\"High\"], usd_jpy[\"Low\"], usd_jpy[\"Adj Close\"])"
   ]
  },
  {
   "cell_type": "markdown",
   "id": "93fcee72",
   "metadata": {},
   "source": [
    "### 4.10 Pascal's Weighted Moving Average (PWMA)\n",
    "<a id=\"subsection-410\"></a>"
   ]
  },
  {
   "cell_type": "code",
   "execution_count": 65,
   "id": "4aa741e5",
   "metadata": {},
   "outputs": [],
   "source": [
    "for length in [5, 10, 21, 63, 126] :\n",
    "    overlap_indicators[f\"PWMA_{length}\"] = ta.pwma(usd_jpy[\"Adj Close\"], length = length) "
   ]
  },
  {
   "cell_type": "markdown",
   "id": "5f0a6303",
   "metadata": {},
   "source": [
    "### 4.11 WildeR's Moving Average (RMA)\n",
    "<a id=\"subsection-411\"></a>"
   ]
  },
  {
   "cell_type": "code",
   "execution_count": 66,
   "id": "c5a25c40",
   "metadata": {},
   "outputs": [],
   "source": [
    "for length in [5, 10, 21, 63, 126] :\n",
    "    overlap_indicators[f\"RMA_{length}\"] = ta.rma(usd_jpy[\"Adj Close\"], length = length)"
   ]
  },
  {
   "cell_type": "markdown",
   "id": "8256c449",
   "metadata": {},
   "source": [
    "### 4.12 Simple Moving Average (SMA)\n",
    "<a id=\"subsection-412\"></a>"
   ]
  },
  {
   "cell_type": "code",
   "execution_count": 67,
   "id": "009927ff",
   "metadata": {},
   "outputs": [],
   "source": [
    "for length in [5, 10, 21, 63, 126] :\n",
    "    overlap_indicators[f\"SMA_{length}\"] = ta.sma(usd_jpy[\"Adj Close\"], length = length)"
   ]
  },
  {
   "cell_type": "markdown",
   "id": "5dc6bbbb",
   "metadata": {},
   "source": [
    "### 4.13 Symetric Weighted Moving Average (SWMA)\n",
    "<a id=\"subsection-413\"></a>"
   ]
  },
  {
   "cell_type": "code",
   "execution_count": 68,
   "id": "99346ace",
   "metadata": {},
   "outputs": [],
   "source": [
    "for length in [5, 10, 21, 63, 126] :\n",
    "    overlap_indicators[f\"SWMA_{length}\"] = ta.swma(usd_jpy[\"Adj Close\"], length = length)"
   ]
  },
  {
   "cell_type": "markdown",
   "id": "162bea98",
   "metadata": {},
   "source": [
    "### 4.14 (Ehler's) Super Smoother Filter (SSF)\n",
    "<a id=\"subsection-414\"></a>"
   ]
  },
  {
   "cell_type": "code",
   "execution_count": 69,
   "id": "111115d0",
   "metadata": {},
   "outputs": [],
   "source": [
    "for length in [5, 10, 21, 63, 126] : \n",
    "    overlap_indicators[f\"SSF_{length}\"] = ta.ssf(usd_jpy[\"Adj Close\"], length = length)"
   ]
  },
  {
   "cell_type": "markdown",
   "id": "5147b958",
   "metadata": {},
   "source": [
    "### 4.15 Supertrend \n",
    "<a id=\"subsection-415\"></a>"
   ]
  },
  {
   "cell_type": "code",
   "execution_count": 70,
   "id": "f96acf7e",
   "metadata": {},
   "outputs": [],
   "source": [
    "for length in [5, 10, 21, 63, 126] :\n",
    "    overlap_indicators[f\"SUPERTREND_{length}\"] = ta.supertrend(usd_jpy[\"High\"], usd_jpy[\"Low\"], usd_jpy[\"Adj Close\"], length = length)[f\"SUPERT_{length}_3.0\"]"
   ]
  },
  {
   "cell_type": "markdown",
   "id": "5f67fd32",
   "metadata": {},
   "source": [
    "### 4.16 Triangular Moving Average (TRIMA)\n",
    "<a id=\"subsection-416\"></a>"
   ]
  },
  {
   "cell_type": "code",
   "execution_count": 71,
   "id": "54d2b704",
   "metadata": {},
   "outputs": [],
   "source": [
    "for length in [5, 10, 21, 63, 126] :\n",
    "    overlap_indicators[f\"TRIMA_{length}\"] = ta.trima(usd_jpy[\"Adj Close\"], length = length)"
   ]
  },
  {
   "cell_type": "markdown",
   "id": "84b6a65a",
   "metadata": {},
   "source": [
    "### 4.17 Triple Exponential Moving Average (TEMA)\n",
    "<a id=\"subsection-417\"></a>"
   ]
  },
  {
   "cell_type": "code",
   "execution_count": 72,
   "id": "7f4fdf44",
   "metadata": {},
   "outputs": [],
   "source": [
    "for length in [5, 10, 21, 63, 126] :\n",
    "    overlap_indicators[f\"TEMA_{length}\"] = ta.tema(usd_jpy[\"Adj Close\"], length = length) "
   ]
  },
  {
   "cell_type": "markdown",
   "id": "0bb8654b",
   "metadata": {},
   "source": [
    "### 4.18 Variable Index Dynamic Average (VIDYA)\n",
    "<a id=\"subsection-418\"></a>"
   ]
  },
  {
   "cell_type": "code",
   "execution_count": 73,
   "id": "53637080",
   "metadata": {},
   "outputs": [],
   "source": [
    "for length in [5, 10, 21, 63, 126] :\n",
    "    overlap_indicators[f\"VIDYA_{length}\"] = ta.vidya(usd_jpy[\"Adj Close\"], length = length)"
   ]
  },
  {
   "cell_type": "markdown",
   "id": "f1fb174d",
   "metadata": {},
   "source": [
    "### 4.19 Weighted Moving Average (WMA)\n",
    "<a id=\"subsection-419\"></a>"
   ]
  },
  {
   "cell_type": "code",
   "execution_count": 74,
   "id": "2286a625",
   "metadata": {},
   "outputs": [],
   "source": [
    "for length in [5, 10, 21, 63, 126] :\n",
    "    overlap_indicators[f\"WMA_{length}\"] = ta.wma(usd_jpy[\"Adj Close\"], length = length)"
   ]
  },
  {
   "cell_type": "markdown",
   "id": "fb5a8ee4",
   "metadata": {},
   "source": [
    "### 4.20 Zero Lag Moving Average (ZLMA)\n",
    "<a id=\"subsection-420\"></a>"
   ]
  },
  {
   "cell_type": "code",
   "execution_count": 75,
   "id": "d0bc9c9c",
   "metadata": {},
   "outputs": [],
   "source": [
    "for length in [5, 10, 21, 63, 126] :\n",
    "    overlap_indicators[f\"ZLMA_{length}\"] = ta.zlma(usd_jpy[\"Adj Close\"], length = length) "
   ]
  },
  {
   "cell_type": "code",
   "execution_count": 76,
   "id": "67d0ab2a",
   "metadata": {},
   "outputs": [],
   "source": [
    "overlap_indicators = overlap_indicators.loc[\"2000-01-01\":] \n",
    "#overlap_indicators.to_csv(\"C:/Users/khail/OneDrive/Desktop/Github Projects/Overlap_Indicators.csv\", index = True) "
   ]
  }
 ],
 "metadata": {
  "kernelspec": {
   "display_name": "Python 3 (ipykernel)",
   "language": "python",
   "name": "python3"
  },
  "language_info": {
   "codemirror_mode": {
    "name": "ipython",
    "version": 3
   },
   "file_extension": ".py",
   "mimetype": "text/x-python",
   "name": "python",
   "nbconvert_exporter": "python",
   "pygments_lexer": "ipython3",
   "version": "3.11.7"
  }
 },
 "nbformat": 4,
 "nbformat_minor": 5
}
